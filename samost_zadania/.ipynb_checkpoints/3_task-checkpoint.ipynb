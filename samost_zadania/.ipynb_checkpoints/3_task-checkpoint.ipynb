{
 "cells": [
  {
   "cell_type": "markdown",
   "id": "657be689",
   "metadata": {},
   "source": [
    "# Самостоятельное задание #3\n",
    "\n",
    "\n",
    "### Задание 1\n",
    "\n",
    "Допишите функцию, которая принимает массив из 10 чисел и возвращает их сумму."
   ]
  },
  {
   "cell_type": "code",
   "execution_count": 1,
   "id": "18ffcbab",
   "metadata": {},
   "outputs": [
    {
     "data": {
      "text/plain": [
       "10"
      ]
     },
     "execution_count": 1,
     "metadata": {},
     "output_type": "execute_result"
    }
   ],
   "source": [
    "def summ(arr: list) -> float:\n",
    "    if len(arr) > 10:\n",
    "        print ('Больше 10 чисел')\n",
    "        return\n",
    "    sum = 0\n",
    "    for i in arr:\n",
    "        sum = sum+i\n",
    "    return sum\n",
    "arr = [1, 2, 3, 4]\n",
    "summ(arr)"
   ]
  },
  {
   "cell_type": "markdown",
   "id": "ee764b9d",
   "metadata": {},
   "source": [
    "# ### Задание 2\n",
    "\n",
    "Допишите функцию, которая принимает массив чисел и возвращает количество чисел равных нулю."
   ]
  },
  {
   "cell_type": "code",
   "execution_count": 24,
   "id": "7e8fe536",
   "metadata": {},
   "outputs": [
    {
     "data": {
      "text/plain": [
       "4"
      ]
     },
     "execution_count": 24,
     "metadata": {},
     "output_type": "execute_result"
    }
   ],
   "source": [
    "def numberofnul(arr: list) ->int:\n",
    "    num = 0\n",
    "    for i in arr:\n",
    "        if i == 0:\n",
    "            num+=1\n",
    "    return num\n",
    "arr = [2, 4, 0, 5, 0, 7, 8, 4, 0, 0]\n",
    "numberofnul(arr)"
   ]
  },
  {
   "cell_type": "markdown",
   "id": "570d5a26",
   "metadata": {},
   "source": [
    "\n",
    "### Задание 3\n",
    "\n",
    "Напишите программу, в которой задается  натуральное число n и выводится лестница из n ступенек, i-я ступенька должна состоять из чисел от 1 до i без пробелов."
   ]
  },
  {
   "cell_type": "code",
   "execution_count": 2,
   "id": "69fd0501",
   "metadata": {},
   "outputs": [
    {
     "name": "stdout",
     "output_type": "stream",
     "text": [
      "1\n",
      "12\n",
      "123\n",
      "1234\n",
      "12345\n"
     ]
    }
   ],
   "source": [
    "def ladder(n: int) ->None:\n",
    "    for i in range(1, n + 1):\n",
    "        res = ''\n",
    "        for j in range (1, i + 1):\n",
    "            res+=str(j)\n",
    "        print(res)\n",
    "ladder(5)"
   ]
  },
  {
   "cell_type": "markdown",
   "id": "b6ef1c44",
   "metadata": {},
   "source": [
    "\n",
    "### Задание 4\n",
    "\n",
    "Напишите программу, в которой задается натуральное число n и выводится пирамида из n ступенек, i-я ступень должна состоять из чисел от 1 до i и обратно без пробелов."
   ]
  },
  {
   "cell_type": "code",
   "execution_count": 3,
   "id": "6b038f87",
   "metadata": {},
   "outputs": [
    {
     "name": "stdout",
     "output_type": "stream",
     "text": [
      "   11\n",
      "  1221\n",
      " 123321\n",
      "12344321\n"
     ]
    }
   ],
   "source": [
    "def pyramid(n: int) ->None:\n",
    "    for i in range (1, n + 1):\n",
    "        print (' '*(n-i), end ='')\n",
    "        for j in range (1, i + 1):\n",
    "            print(j, end = '')\n",
    "        for j in range (i, 0, -1):\n",
    "            print (j, end = '')\n",
    "        else: \n",
    "            print ('')\n",
    "            \n",
    "            \n",
    "            \n",
    "pyramid(4)\n",
    "        "
   ]
  },
  {
   "cell_type": "markdown",
   "id": "b4552ef5",
   "metadata": {},
   "source": [
    "\n",
    "### Задание 5\n",
    "\n",
    "Напишите программу, в которой задается натуральное число n и выводится ромб из `n*2-1` ступенек, i-я ступень должна состоять из чисел от 1 до i и обратно без пробелов."
   ]
  },
  {
   "cell_type": "code",
   "execution_count": 14,
   "id": "5eaae897",
   "metadata": {},
   "outputs": [
    {
     "name": "stdout",
     "output_type": "stream",
     "text": [
      "        11\n",
      "       1221\n",
      "      123321\n",
      "     12344321\n",
      "    1234554321\n",
      "   123456654321\n",
      "  12345677654321\n",
      " 1234567887654321\n",
      "  12345677654321\n",
      "   123456654321\n",
      "    1234554321\n",
      "     12344321\n",
      "      123321\n",
      "       1221\n",
      "        11\n"
     ]
    }
   ],
   "source": [
    "\n",
    "def romb(n:int)->None :\n",
    "    for i in range (1, n):\n",
    "        print (' '*(n-i+1), end = '')\n",
    "        for j in range (1, i+1):\n",
    "            print (j, end = '')\n",
    "        for j in range (i, 0, -1):\n",
    "            print (j, end = '')\n",
    "        else:\n",
    "            print ('')\n",
    "    for i in range (n, 0, -1):\n",
    "        print (' '*(n-i+1), end = '')\n",
    "        for j in range (1, i+1):\n",
    "            print (j, end = '')\n",
    "        for j in range (i, 0, -1):\n",
    "            print (j, end = '')\n",
    "        else:\n",
    "            print ('')\n",
    "            \n",
    "romb(8)"
   ]
  },
  {
   "cell_type": "code",
   "execution_count": null,
   "id": "6d4f9991",
   "metadata": {},
   "outputs": [],
   "source": []
  }
 ],
 "metadata": {
  "kernelspec": {
   "display_name": "Python 3",
   "language": "python",
   "name": "python3"
  },
  "language_info": {
   "codemirror_mode": {
    "name": "ipython",
    "version": 3
   },
   "file_extension": ".py",
   "mimetype": "text/x-python",
   "name": "python",
   "nbconvert_exporter": "python",
   "pygments_lexer": "ipython3",
   "version": "3.8.8"
  }
 },
 "nbformat": 4,
 "nbformat_minor": 5
}
