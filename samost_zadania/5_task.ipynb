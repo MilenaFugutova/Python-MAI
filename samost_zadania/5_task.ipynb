{
 "cells": [
  {
   "cell_type": "markdown",
   "id": "85755de8",
   "metadata": {},
   "source": [
    "# Самостоятельное задание #5\n",
    "\n",
    "\n",
    "### Задание 1\n",
    "\n",
    "Допишите функцию, которая принимает список, выбирает из него все элементы с четным индексом и возвращает их в виде списка."
   ]
  },
  {
   "cell_type": "code",
   "execution_count": 1,
   "id": "6ef6d9b3",
   "metadata": {},
   "outputs": [
    {
     "name": "stdout",
     "output_type": "stream",
     "text": [
      "[5, 31, 85, 17]\n"
     ]
    }
   ],
   "source": [
    "def even_ind(s):\n",
    "    c = []\n",
    "    for i in range(len(s)):\n",
    "        if i%2 == 0:\n",
    "            c.append(s[i])\n",
    "    return c \n",
    "print(even_ind([5, 2, 31, 24, 85, 6, 17, 48]))\n"
   ]
  },
  {
   "cell_type": "markdown",
   "id": "443974c9",
   "metadata": {},
   "source": [
    "### Задание 2\n",
    "\n",
    "Допишите функцию, которая принимает список, выбирает из него все элементы, которые больше предыдущего и возвращает их в виде списка.\n"
   ]
  },
  {
   "cell_type": "code",
   "execution_count": 3,
   "id": "3a8cf925",
   "metadata": {},
   "outputs": [
    {
     "name": "stdout",
     "output_type": "stream",
     "text": [
      "[5, 6]\n"
     ]
    }
   ],
   "source": [
    "a = [2, 5, 3, 6]\n",
    "\n",
    "def bigger(a: list) -> list:\n",
    "    z = []\n",
    "    for i in range (1, len(a)):\n",
    "        if a[i] > a[i - 1]:\n",
    "            z.append(a[i])\n",
    "    else:\n",
    "        return z\n",
    "print(bigger(a))"
   ]
  },
  {
   "cell_type": "markdown",
   "id": "2ffe2ef4",
   "metadata": {},
   "source": [
    "# Задание 3\n",
    "\n",
    "Допишите функцию, которая принимает список, меняет местами наибольший и наименьший элементы и возвращает этот список."
   ]
  },
  {
   "cell_type": "code",
   "execution_count": 4,
   "id": "34d2beae",
   "metadata": {},
   "outputs": [
    {
     "name": "stdout",
     "output_type": "stream",
     "text": [
      "Введите элементы 45 16 25 13\n",
      "[13, 16, 25, 45]\n"
     ]
    }
   ],
   "source": [
    "a = [int(i) for i in input ('Введите элементы ').split()]\n",
    "\n",
    "def swap(arr: list) -> int:\n",
    "    mini = a.index(max(a))\n",
    "    maxi = a.index(min(a))\n",
    "    arr [maxi], arr [mini] = arr [mini], arr [maxi]\n",
    "    return (arr)\n",
    "    \n",
    "print (swap(a)) "
   ]
  },
  {
   "cell_type": "code",
   "execution_count": null,
   "id": "a6a616ab",
   "metadata": {},
   "outputs": [],
   "source": []
  }
 ],
 "metadata": {
  "kernelspec": {
   "display_name": "Python 3",
   "language": "python",
   "name": "python3"
  }
 },
 "nbformat": 4,
 "nbformat_minor": 5
}
