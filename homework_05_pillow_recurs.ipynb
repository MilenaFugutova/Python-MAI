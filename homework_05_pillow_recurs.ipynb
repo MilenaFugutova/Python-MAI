{
 "cells": [
  {
   "cell_type": "code",
   "execution_count": 1,
   "id": "4508e38e",
   "metadata": {},
   "outputs": [
    {
     "name": "stdout",
     "output_type": "stream",
     "text": [
      "Requirement already satisfied: pillow in c:\\inf\\lib\\site-packages (8.2.0)\n",
      "Note: you may need to restart the kernel to use updated packages.\n"
     ]
    }
   ],
   "source": [
    "pip install pillow"
   ]
  },
  {
   "cell_type": "code",
   "execution_count": null,
   "id": "58659d61",
   "metadata": {},
   "outputs": [],
   "source": [
    "from PIL import Image, ImageFilter, ImageDraw\n",
    "\n",
    "img = Image.open('rabbit.jpg')\n",
    "\n",
    "(width, height) = img.size\n",
    "pix = img.load()\n",
    "invert_img = Image.new(img.mode, img.size)\n",
    "draw = ImageDraw.Draw(invert_img)\n",
    "\n",
    "\n",
    "for x in range(0, width):\n",
    "    for y in range (0, height):\n",
    "        (r, g, b) = pix[x,y]\n",
    "        draw.point((x,y), (255 - r, 255 - g, 255 - b))\n",
    "\n",
    "        \n",
    "blur_img = invert_img.filter(ImageFilter.BoxBlur(10))\n",
    "blur_img.show()\n",
    "blur_img.save('invert_rabbit')"
   ]
  },
  {
   "cell_type": "code",
   "execution_count": 4,
   "id": "53fc5978",
   "metadata": {},
   "outputs": [
    {
     "name": "stdout",
     "output_type": "stream",
     "text": [
      "[5, 9, 2, 4]\n"
     ]
    }
   ],
   "source": [
    "def recursive_print_list (l: list):\n",
    "    print(l)\n",
    "    \n",
    "    \n",
    "l = [5, 9, 2, 4]\n",
    "recursive_print_list(l)"
   ]
  },
  {
   "cell_type": "code",
   "execution_count": null,
   "id": "68775eb9",
   "metadata": {},
   "outputs": [],
   "source": []
  }
 ],
 "metadata": {
  "kernelspec": {
   "display_name": "Python 3",
   "language": "python",
   "name": "python3"
  },
  "language_info": {
   "codemirror_mode": {
    "name": "ipython",
    "version": 3
   },
   "file_extension": ".py",
   "mimetype": "text/x-python",
   "name": "python",
   "nbconvert_exporter": "python",
   "pygments_lexer": "ipython3",
   "version": "3.8.8"
  }
 },
 "nbformat": 4,
 "nbformat_minor": 5
}
